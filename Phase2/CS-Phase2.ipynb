{
 "cells": [
  {
   "cell_type": "markdown",
   "metadata": {},
   "source": [
    "# Phase 1 - Ingestion and Cleaning\n",
    "\n",
    "In the Phase 2 of the Case Study, we will carry out the following steps:\n",
    "  - Ingest raw downloaded data\n",
    "  - Output a combined dataset ready for analysis and modeling"
   ]
  },
  {
   "cell_type": "code",
   "execution_count": 36,
   "metadata": {},
   "outputs": [],
   "source": [
    "import pandas as pd\n",
    "import os\n",
    "from sys import platform\n",
    "import matplotlib.pyplot as plt\n",
    "import datetime\n",
    "import numpy as np\n",
    "import pickle\n",
    "import seaborn\n",
    "import warnings #ignore warnings\n",
    "warnings.filterwarnings(\"ignore\", category=FutureWarning)"
   ]
  },
  {
   "cell_type": "code",
   "execution_count": 37,
   "metadata": {},
   "outputs": [],
   "source": [
    "# A helper function that you'll be using while reading the raw files\n",
    "def is_integer(x):\n",
    "    '''\n",
    "    This function returns True if x is an integer, and False otherwise\n",
    "    '''\n",
    "    try:\n",
    "        return (int(x) == float(x))\n",
    "    except:\n",
    "        return False"
   ]
  },
  {
   "cell_type": "markdown",
   "metadata": {},
   "source": [
    "## Parameters"
   ]
  },
  {
   "cell_type": "code",
   "execution_count": 38,
   "metadata": {},
   "outputs": [],
   "source": [
    "# Define the directories that contain the files downloaded\n",
    "dir_cs = \"/case_study_data.zip\" # path to the directory where all the *.csv.zip files are located\n",
    "\n",
    "# Define the output path for the pickle\n",
    "pickle_file = \"loanData/\" + \"clean_data.pickle\" # path to save cleaned data"
   ]
  },
  {
   "cell_type": "code",
   "execution_count": 39,
   "metadata": {},
   "outputs": [],
   "source": [
    "# Identify the columns we'll be keeping from the dataset\n",
    "# list of features to use for this study as indicated in the handout\n",
    "cols_to_pick = [\"id\", \"loan_amnt\", \"funded_amnt\", \"term\", \"int_rate\", \"installment\", \"grade\", \"emp_length\", \\\n",
    "                \"home_ownership\", \"annual_inc\", \"verification_status\", \"issue_d\", \"loan_status\", \"purpose\", \\\n",
    "                \"dti\", \"delinq_2yrs\", \"earliest_cr_line\", \"open_acc\", \"pub_rec\",\"fico_range_high\", \"fico_range_low\", \\\n",
    "                \"revol_bal\", \"revol_util\", \"total_pymnt\", \"last_pymnt_d\", \"recoveries\"] \n",
    "\n",
    "# Identify the type of each of these column based on your CS-Phase 1 response\n",
    "float_cols = [\"loan_amnt\", \"funded_amnt\", \"installment\", \"annual_inc\", \"dti\", \"delinq_2yrs\", \"open_acc\", \"pub_rec\", \\\n",
    "              \"fico_range_high\", \"fico_range_low\", \"revol_bal\", \"total_pymnt\", \"recoveries\"]\n",
    "cat_cols = [\"term\", \"grade\", \"emp_length\", \"home_ownership\", \"verification_status\", \"loan_status\", \"purpose\"] # categorical features\n",
    "perc_cols = ['int_rate', 'revol_util']\n",
    "date_cols = ['issue_d', 'earliest_cr_line', 'last_pymnt_d']\n",
    "\n",
    "# Ensure that we have types for every column\n",
    "assert set(cols_to_pick) - set(float_cols) - set(cat_cols) - set(perc_cols) - set(date_cols) == set([\"id\"])"
   ]
  },
  {
   "cell_type": "code",
   "execution_count": 40,
   "metadata": {},
   "outputs": [],
   "source": [
    "# Some of the columns selected will not be used directly in the model,\n",
    "# but will be used to generate other features.\n",
    "#\n",
    "# Create variables specifying the features that will be used\n",
    "\n",
    "# All categorical columns other than \"loan_status\" will be used as\n",
    "# discrete features\n",
    "\n",
    "discrete_features = list(set(cat_cols) - set([\"loan_status\"]))\n",
    "\n",
    "# All numeric columns will be used as continuous features\n",
    "continuous_features = list(float_cols + perc_cols)"
   ]
  },
  {
   "cell_type": "markdown",
   "metadata": {},
   "source": [
    "## Ingestion\n",
    "Ingest the data files from both sets, perform consistency checks, and prepare one single file for each set"
   ]
  },
  {
   "cell_type": "code",
   "execution_count": 41,
   "metadata": {},
   "outputs": [],
   "source": [
    "import glob\n",
    "\n",
    "def ingest_files(directory):\n",
    "    '''\n",
    "    This function will ingest every file in the specified directory\n",
    "    into a pandas dataframe. It will return a dictionary containing\n",
    "    these dataframes, keyed by the file name.\n",
    "    \n",
    "    We assume the directory contains files directly downloaded from\n",
    "    the link given in the handout, and *only* those files. Thus, we \n",
    "    assume the files are zipped (pd.read_csv can read zipped files) \n",
    "    and we assume the first line in each file needs to be skipped.\n",
    "    \n",
    "    Note that each file will be read *without* formatting\n",
    "    '''\n",
    "    \n",
    "    # If the directory has no trailing slash, add one\n",
    "    if directory[-1] != \"/\":\n",
    "        directory += \"/\"\n",
    "    \n",
    "    all_files = glob.glob(directory+\"*.zip\") # get list of all files from the directory\n",
    "    output = {}\n",
    "    \n",
    "    print(\"Directory \" + directory + \" has \" + str(len(all_files)) + \" files:\")\n",
    "    for i in all_files:\n",
    "        print(\"    Reading file \" + i)\n",
    "        output[i] = pd.read_csv(i, dtype='str', skiprows=1) # read each with dtype='str' and skip_rows =1\n",
    "        \n",
    "        # Some of the files have \"summary\" lines that, for example\n",
    "        # read \"Total number of loans number in Policy 1: .....\"\n",
    "        # To remove those lines, find any lines with non-integer IDs\n",
    "        # and remove them\n",
    "        invalid_rows = [not is_integer(r) for r in output[i]['id']] # mask rows that have non-integer IDs. Use is_integer method\n",
    "       \n",
    "        if sum(invalid_rows) > 0:\n",
    "            print(\"Found \" + str(sum(invalid_rows)) + \" invalid rows which were removed\")\n",
    "            output[i] = output[i][np.logical_not(invalid_rows)] # remove invalid rows\n",
    "    \n",
    "    return output # return dictionary of dataframe"
   ]
  },
  {
   "cell_type": "code",
   "execution_count": 42,
   "metadata": {},
   "outputs": [
    {
     "name": "stdout",
     "output_type": "stream",
     "text": [
      "Directory case_study_data/1805_download/ has 12 files:\n",
      "    Reading file case_study_data/1805_download/LoanStats_securev1_2016Q3.csv.zip\n",
      "Found 2 invalid rows which were removed\n",
      "    Reading file case_study_data/1805_download/LoanStats_securev1_2016Q2.csv.zip\n",
      "Found 2 invalid rows which were removed\n",
      "    Reading file case_study_data/1805_download/LoanStats3a_securev1.csv.zip\n",
      "Found 3 invalid rows which were removed\n",
      "    Reading file case_study_data/1805_download/LoanStats_securev1_2017Q1.csv.zip\n",
      "Found 2 invalid rows which were removed\n",
      "    Reading file case_study_data/1805_download/LoanStats3d_securev1.csv.zip\n",
      "Found 2 invalid rows which were removed\n",
      "    Reading file case_study_data/1805_download/LoanStats_securev1_2017Q3.csv.zip\n",
      "Found 2 invalid rows which were removed\n",
      "    Reading file case_study_data/1805_download/LoanStats_securev1_2017Q2.csv.zip\n",
      "Found 2 invalid rows which were removed\n",
      "    Reading file case_study_data/1805_download/LoanStats_securev1_2016Q1.csv.zip\n",
      "Found 2 invalid rows which were removed\n",
      "    Reading file case_study_data/1805_download/LoanStats_securev1_2016Q4.csv.zip\n",
      "Found 2 invalid rows which were removed\n",
      "    Reading file case_study_data/1805_download/LoanStats3c_securev1.csv.zip\n",
      "Found 2 invalid rows which were removed\n",
      "    Reading file case_study_data/1805_download/LoanStats_securev1_2017Q4.csv.zip\n",
      "Found 2 invalid rows which were removed\n",
      "    Reading file case_study_data/1805_download/LoanStats3b_securev1.csv.zip\n",
      "Found 2 invalid rows which were removed\n"
     ]
    }
   ],
   "source": [
    "# Ingest the set of files we downloaded using the defined method \"ingest_files\"\n",
    "files_cs = ingest_files(\"case_study_data/1805_download\") # dictionary of (filename, dataframe) as (key, value)"
   ]
  },
  {
   "cell_type": "markdown",
   "metadata": {},
   "source": [
    "### Combine the files"
   ]
  },
  {
   "cell_type": "code",
   "execution_count": 43,
   "metadata": {},
   "outputs": [
    {
     "data": {
      "text/html": [
       "<div>\n",
       "<style scoped>\n",
       "    .dataframe tbody tr th:only-of-type {\n",
       "        vertical-align: middle;\n",
       "    }\n",
       "\n",
       "    .dataframe tbody tr th {\n",
       "        vertical-align: top;\n",
       "    }\n",
       "\n",
       "    .dataframe thead th {\n",
       "        text-align: right;\n",
       "    }\n",
       "</style>\n",
       "<table border=\"1\" class=\"dataframe\">\n",
       "  <thead>\n",
       "    <tr style=\"text-align: right;\">\n",
       "      <th></th>\n",
       "      <th>id</th>\n",
       "      <th>member_id</th>\n",
       "      <th>loan_amnt</th>\n",
       "      <th>funded_amnt</th>\n",
       "      <th>funded_amnt_inv</th>\n",
       "      <th>term</th>\n",
       "      <th>int_rate</th>\n",
       "      <th>installment</th>\n",
       "      <th>grade</th>\n",
       "      <th>sub_grade</th>\n",
       "      <th>...</th>\n",
       "      <th>hardship_payoff_balance_amount</th>\n",
       "      <th>hardship_last_payment_amount</th>\n",
       "      <th>disbursement_method</th>\n",
       "      <th>debt_settlement_flag</th>\n",
       "      <th>debt_settlement_flag_date</th>\n",
       "      <th>settlement_status</th>\n",
       "      <th>settlement_date</th>\n",
       "      <th>settlement_amount</th>\n",
       "      <th>settlement_percentage</th>\n",
       "      <th>settlement_term</th>\n",
       "    </tr>\n",
       "  </thead>\n",
       "  <tbody>\n",
       "    <tr>\n",
       "      <th>0</th>\n",
       "      <td>90281097</td>\n",
       "      <td>NaN</td>\n",
       "      <td>35000</td>\n",
       "      <td>35000</td>\n",
       "      <td>35000</td>\n",
       "      <td>60 months</td>\n",
       "      <td>17.99%</td>\n",
       "      <td>888.58</td>\n",
       "      <td>D</td>\n",
       "      <td>D2</td>\n",
       "      <td>...</td>\n",
       "      <td>NaN</td>\n",
       "      <td>NaN</td>\n",
       "      <td>Cash</td>\n",
       "      <td>N</td>\n",
       "      <td>NaN</td>\n",
       "      <td>NaN</td>\n",
       "      <td>NaN</td>\n",
       "      <td>NaN</td>\n",
       "      <td>NaN</td>\n",
       "      <td>NaN</td>\n",
       "    </tr>\n",
       "    <tr>\n",
       "      <th>1</th>\n",
       "      <td>90641854</td>\n",
       "      <td>NaN</td>\n",
       "      <td>12000</td>\n",
       "      <td>12000</td>\n",
       "      <td>12000</td>\n",
       "      <td>60 months</td>\n",
       "      <td>9.49%</td>\n",
       "      <td>251.97</td>\n",
       "      <td>B</td>\n",
       "      <td>B2</td>\n",
       "      <td>...</td>\n",
       "      <td>NaN</td>\n",
       "      <td>NaN</td>\n",
       "      <td>Cash</td>\n",
       "      <td>N</td>\n",
       "      <td>NaN</td>\n",
       "      <td>NaN</td>\n",
       "      <td>NaN</td>\n",
       "      <td>NaN</td>\n",
       "      <td>NaN</td>\n",
       "      <td>NaN</td>\n",
       "    </tr>\n",
       "    <tr>\n",
       "      <th>2</th>\n",
       "      <td>90451810</td>\n",
       "      <td>NaN</td>\n",
       "      <td>15000</td>\n",
       "      <td>15000</td>\n",
       "      <td>15000</td>\n",
       "      <td>36 months</td>\n",
       "      <td>13.99%</td>\n",
       "      <td>512.6</td>\n",
       "      <td>C</td>\n",
       "      <td>C3</td>\n",
       "      <td>...</td>\n",
       "      <td>NaN</td>\n",
       "      <td>NaN</td>\n",
       "      <td>Cash</td>\n",
       "      <td>N</td>\n",
       "      <td>NaN</td>\n",
       "      <td>NaN</td>\n",
       "      <td>NaN</td>\n",
       "      <td>NaN</td>\n",
       "      <td>NaN</td>\n",
       "      <td>NaN</td>\n",
       "    </tr>\n",
       "    <tr>\n",
       "      <th>3</th>\n",
       "      <td>90723253</td>\n",
       "      <td>NaN</td>\n",
       "      <td>7000</td>\n",
       "      <td>7000</td>\n",
       "      <td>7000</td>\n",
       "      <td>36 months</td>\n",
       "      <td>10.99%</td>\n",
       "      <td>229.14</td>\n",
       "      <td>B</td>\n",
       "      <td>B4</td>\n",
       "      <td>...</td>\n",
       "      <td>NaN</td>\n",
       "      <td>NaN</td>\n",
       "      <td>Cash</td>\n",
       "      <td>N</td>\n",
       "      <td>NaN</td>\n",
       "      <td>NaN</td>\n",
       "      <td>NaN</td>\n",
       "      <td>NaN</td>\n",
       "      <td>NaN</td>\n",
       "      <td>NaN</td>\n",
       "    </tr>\n",
       "    <tr>\n",
       "      <th>4</th>\n",
       "      <td>90723183</td>\n",
       "      <td>NaN</td>\n",
       "      <td>7000</td>\n",
       "      <td>7000</td>\n",
       "      <td>7000</td>\n",
       "      <td>36 months</td>\n",
       "      <td>12.79%</td>\n",
       "      <td>235.16</td>\n",
       "      <td>C</td>\n",
       "      <td>C1</td>\n",
       "      <td>...</td>\n",
       "      <td>NaN</td>\n",
       "      <td>NaN</td>\n",
       "      <td>Cash</td>\n",
       "      <td>N</td>\n",
       "      <td>NaN</td>\n",
       "      <td>NaN</td>\n",
       "      <td>NaN</td>\n",
       "      <td>NaN</td>\n",
       "      <td>NaN</td>\n",
       "      <td>NaN</td>\n",
       "    </tr>\n",
       "  </tbody>\n",
       "</table>\n",
       "<p>5 rows × 151 columns</p>\n",
       "</div>"
      ],
      "text/plain": [
       "         id member_id loan_amnt funded_amnt funded_amnt_inv        term  \\\n",
       "0  90281097       NaN     35000       35000           35000   60 months   \n",
       "1  90641854       NaN     12000       12000           12000   60 months   \n",
       "2  90451810       NaN     15000       15000           15000   36 months   \n",
       "3  90723253       NaN      7000        7000            7000   36 months   \n",
       "4  90723183       NaN      7000        7000            7000   36 months   \n",
       "\n",
       "  int_rate installment grade sub_grade       ...        \\\n",
       "0   17.99%      888.58     D        D2       ...         \n",
       "1    9.49%      251.97     B        B2       ...         \n",
       "2   13.99%       512.6     C        C3       ...         \n",
       "3   10.99%      229.14     B        B4       ...         \n",
       "4   12.79%      235.16     C        C1       ...         \n",
       "\n",
       "  hardship_payoff_balance_amount hardship_last_payment_amount  \\\n",
       "0                            NaN                          NaN   \n",
       "1                            NaN                          NaN   \n",
       "2                            NaN                          NaN   \n",
       "3                            NaN                          NaN   \n",
       "4                            NaN                          NaN   \n",
       "\n",
       "  disbursement_method debt_settlement_flag debt_settlement_flag_date  \\\n",
       "0                Cash                    N                       NaN   \n",
       "1                Cash                    N                       NaN   \n",
       "2                Cash                    N                       NaN   \n",
       "3                Cash                    N                       NaN   \n",
       "4                Cash                    N                       NaN   \n",
       "\n",
       "  settlement_status settlement_date settlement_amount settlement_percentage  \\\n",
       "0               NaN             NaN               NaN                   NaN   \n",
       "1               NaN             NaN               NaN                   NaN   \n",
       "2               NaN             NaN               NaN                   NaN   \n",
       "3               NaN             NaN               NaN                   NaN   \n",
       "4               NaN             NaN               NaN                   NaN   \n",
       "\n",
       "  settlement_term  \n",
       "0             NaN  \n",
       "1             NaN  \n",
       "2             NaN  \n",
       "3             NaN  \n",
       "4             NaN  \n",
       "\n",
       "[5 rows x 151 columns]"
      ]
     },
     "execution_count": 43,
     "metadata": {},
     "output_type": "execute_result"
    }
   ],
   "source": [
    "data_cs = pd.concat(files_cs.values()) # combine \"files_cs\" into a pandas dataframe\n",
    "data_cs.reset_index(drop=True)          # reset index with drop = True\n",
    "data_cs.head()"
   ]
  },
  {
   "cell_type": "markdown",
   "metadata": {},
   "source": [
    "## Prepare Final Dataset"
   ]
  },
  {
   "cell_type": "code",
   "execution_count": 44,
   "metadata": {},
   "outputs": [
    {
     "data": {
      "text/plain": [
       "(1765426, 26)"
      ]
     },
     "execution_count": 44,
     "metadata": {},
     "output_type": "execute_result"
    }
   ],
   "source": [
    "# Keep only the columns of interest from 'data_cs'\n",
    "final_data = data_cs[cols_to_pick]\n",
    "final_data.shape"
   ]
  },
  {
   "cell_type": "code",
   "execution_count": 45,
   "metadata": {},
   "outputs": [
    {
     "name": "stdout",
     "output_type": "stream",
     "text": [
      "Starting with 1765426 rows\n"
     ]
    }
   ],
   "source": [
    "print(\"Starting with \" + str(len(final_data)) + \" rows\")"
   ]
  },
  {
   "cell_type": "markdown",
   "metadata": {},
   "source": [
    "### Typecast the columns"
   ]
  },
  {
   "cell_type": "code",
   "execution_count": 46,
   "metadata": {},
   "outputs": [
    {
     "name": "stderr",
     "output_type": "stream",
     "text": [
      "/anaconda3/lib/python3.6/site-packages/ipykernel_launcher.py:5: SettingWithCopyWarning: \n",
      "A value is trying to be set on a copy of a slice from a DataFrame.\n",
      "Try using .loc[row_indexer,col_indexer] = value instead\n",
      "\n",
      "See the caveats in the documentation: http://pandas.pydata.org/pandas-docs/stable/indexing.html#indexing-view-versus-copy\n",
      "  \"\"\"\n"
     ]
    },
    {
     "data": {
      "text/plain": [
       "id                      object\n",
       "loan_amnt              float64\n",
       "funded_amnt            float64\n",
       "term                    object\n",
       "int_rate                object\n",
       "installment            float64\n",
       "grade                   object\n",
       "emp_length              object\n",
       "home_ownership          object\n",
       "annual_inc             float64\n",
       "verification_status     object\n",
       "issue_d                 object\n",
       "loan_status             object\n",
       "purpose                 object\n",
       "dti                    float64\n",
       "delinq_2yrs            float64\n",
       "earliest_cr_line        object\n",
       "open_acc               float64\n",
       "pub_rec                float64\n",
       "fico_range_high        float64\n",
       "fico_range_low         float64\n",
       "revol_bal              float64\n",
       "revol_util              object\n",
       "total_pymnt            float64\n",
       "last_pymnt_d            object\n",
       "recoveries             float64\n",
       "dtype: object"
      ]
     },
     "execution_count": 46,
     "metadata": {},
     "output_type": "execute_result"
    }
   ],
   "source": [
    "# Remember that we read the data as string (without any formatting). \n",
    "# Now we would typecast the columns based on feature types which you found out in CS Phase 1\n",
    "\n",
    "for i in float_cols:\n",
    "    final_data[i] = final_data[i].astype(float) # typecast float columns\n",
    "    \n",
    "final_data.dtypes"
   ]
  },
  {
   "cell_type": "code",
   "execution_count": 47,
   "metadata": {},
   "outputs": [
    {
     "name": "stderr",
     "output_type": "stream",
     "text": [
      "/anaconda3/lib/python3.6/site-packages/ipykernel_launcher.py:10: SettingWithCopyWarning: \n",
      "A value is trying to be set on a copy of a slice from a DataFrame.\n",
      "Try using .loc[row_indexer,col_indexer] = value instead\n",
      "\n",
      "See the caveats in the documentation: http://pandas.pydata.org/pandas-docs/stable/indexing.html#indexing-view-versus-copy\n",
      "  # Remove the CWD from sys.path while we load stuff.\n"
     ]
    },
    {
     "data": {
      "text/plain": [
       "id                      object\n",
       "loan_amnt              float64\n",
       "funded_amnt            float64\n",
       "term                    object\n",
       "int_rate               float64\n",
       "installment            float64\n",
       "grade                   object\n",
       "emp_length              object\n",
       "home_ownership          object\n",
       "annual_inc             float64\n",
       "verification_status     object\n",
       "issue_d                 object\n",
       "loan_status             object\n",
       "purpose                 object\n",
       "dti                    float64\n",
       "delinq_2yrs            float64\n",
       "earliest_cr_line        object\n",
       "open_acc               float64\n",
       "pub_rec                float64\n",
       "fico_range_high        float64\n",
       "fico_range_low         float64\n",
       "revol_bal              float64\n",
       "revol_util             float64\n",
       "total_pymnt            float64\n",
       "last_pymnt_d            object\n",
       "recoveries             float64\n",
       "dtype: object"
      ]
     },
     "execution_count": 47,
     "metadata": {},
     "output_type": "execute_result"
    }
   ],
   "source": [
    "def clean_perc(x):\n",
    "    if type(x) is float:\n",
    "        return x\n",
    "    if pd.isnull(x):\n",
    "        return np.nan\n",
    "    else:\n",
    "        return float(x.strip()[:-1])\n",
    "\n",
    "for i in perc_cols:\n",
    "    final_data[i] = [clean_perc(j) for j in final_data[i]] # apply clean_perc to percentage columns\n",
    "    \n",
    "final_data.dtypes"
   ]
  },
  {
   "cell_type": "code",
   "execution_count": 48,
   "metadata": {},
   "outputs": [
    {
     "name": "stderr",
     "output_type": "stream",
     "text": [
      "/anaconda3/lib/python3.6/site-packages/ipykernel_launcher.py:10: SettingWithCopyWarning: \n",
      "A value is trying to be set on a copy of a slice from a DataFrame.\n",
      "Try using .loc[row_indexer,col_indexer] = value instead\n",
      "\n",
      "See the caveats in the documentation: http://pandas.pydata.org/pandas-docs/stable/indexing.html#indexing-view-versus-copy\n",
      "  # Remove the CWD from sys.path while we load stuff.\n"
     ]
    }
   ],
   "source": [
    "def clean_date(x):\n",
    "    if type(x) is datetime.datetime:\n",
    "        return x\n",
    "    if pd.isnull(x):\n",
    "        return None\n",
    "    else:\n",
    "        return datetime.datetime.strptime( x, \"%b-%Y\").date()\n",
    "\n",
    "for i in date_cols:\n",
    "    final_data[i] = [clean_date(d) for d in final_data[i]] # typecast date cloumns to datatime using clean_date"
   ]
  },
  {
   "cell_type": "code",
   "execution_count": 49,
   "metadata": {},
   "outputs": [],
   "source": [
    "for i in cat_cols:\n",
    "    final_data[i].replace(r'\\s+', None, regex=True, inplace = True) # for categorical features if the value is null/empty set it to None"
   ]
  },
  {
   "cell_type": "code",
   "execution_count": 50,
   "metadata": {},
   "outputs": [
    {
     "data": {
      "text/html": [
       "<div>\n",
       "<style scoped>\n",
       "    .dataframe tbody tr th:only-of-type {\n",
       "        vertical-align: middle;\n",
       "    }\n",
       "\n",
       "    .dataframe tbody tr th {\n",
       "        vertical-align: top;\n",
       "    }\n",
       "\n",
       "    .dataframe thead th {\n",
       "        text-align: right;\n",
       "    }\n",
       "</style>\n",
       "<table border=\"1\" class=\"dataframe\">\n",
       "  <thead>\n",
       "    <tr style=\"text-align: right;\">\n",
       "      <th></th>\n",
       "      <th>0</th>\n",
       "      <th>1</th>\n",
       "      <th>2</th>\n",
       "      <th>3</th>\n",
       "      <th>4</th>\n",
       "    </tr>\n",
       "  </thead>\n",
       "  <tbody>\n",
       "    <tr>\n",
       "      <th>id</th>\n",
       "      <td>90281097</td>\n",
       "      <td>90641854</td>\n",
       "      <td>90451810</td>\n",
       "      <td>90723253</td>\n",
       "      <td>90723183</td>\n",
       "    </tr>\n",
       "    <tr>\n",
       "      <th>loan_amnt</th>\n",
       "      <td>35000</td>\n",
       "      <td>12000</td>\n",
       "      <td>15000</td>\n",
       "      <td>7000</td>\n",
       "      <td>7000</td>\n",
       "    </tr>\n",
       "    <tr>\n",
       "      <th>funded_amnt</th>\n",
       "      <td>35000</td>\n",
       "      <td>12000</td>\n",
       "      <td>15000</td>\n",
       "      <td>7000</td>\n",
       "      <td>7000</td>\n",
       "    </tr>\n",
       "    <tr>\n",
       "      <th>term</th>\n",
       "      <td>60 months</td>\n",
       "      <td>60 months</td>\n",
       "      <td>36 months</td>\n",
       "      <td>36 months</td>\n",
       "      <td>36 months</td>\n",
       "    </tr>\n",
       "    <tr>\n",
       "      <th>int_rate</th>\n",
       "      <td>17.99</td>\n",
       "      <td>9.49</td>\n",
       "      <td>13.99</td>\n",
       "      <td>10.99</td>\n",
       "      <td>12.79</td>\n",
       "    </tr>\n",
       "    <tr>\n",
       "      <th>installment</th>\n",
       "      <td>888.58</td>\n",
       "      <td>251.97</td>\n",
       "      <td>512.6</td>\n",
       "      <td>229.14</td>\n",
       "      <td>235.16</td>\n",
       "    </tr>\n",
       "    <tr>\n",
       "      <th>grade</th>\n",
       "      <td>D</td>\n",
       "      <td>B</td>\n",
       "      <td>C</td>\n",
       "      <td>B</td>\n",
       "      <td>C</td>\n",
       "    </tr>\n",
       "    <tr>\n",
       "      <th>emp_length</th>\n",
       "      <td>9 years</td>\n",
       "      <td>1 year</td>\n",
       "      <td>3 years</td>\n",
       "      <td>&lt; 1 year</td>\n",
       "      <td>7 years</td>\n",
       "    </tr>\n",
       "    <tr>\n",
       "      <th>home_ownership</th>\n",
       "      <td>MORTGAGE</td>\n",
       "      <td>MORTGAGE</td>\n",
       "      <td>RENT</td>\n",
       "      <td>MORTGAGE</td>\n",
       "      <td>RENT</td>\n",
       "    </tr>\n",
       "    <tr>\n",
       "      <th>annual_inc</th>\n",
       "      <td>70000</td>\n",
       "      <td>70000</td>\n",
       "      <td>67000</td>\n",
       "      <td>38000</td>\n",
       "      <td>45386</td>\n",
       "    </tr>\n",
       "    <tr>\n",
       "      <th>verification_status</th>\n",
       "      <td>Not Verified</td>\n",
       "      <td>Source Verified</td>\n",
       "      <td>Verified</td>\n",
       "      <td>Not Verified</td>\n",
       "      <td>Verified</td>\n",
       "    </tr>\n",
       "    <tr>\n",
       "      <th>issue_d</th>\n",
       "      <td>2016-09-01</td>\n",
       "      <td>2016-09-01</td>\n",
       "      <td>2016-09-01</td>\n",
       "      <td>2016-09-01</td>\n",
       "      <td>2016-09-01</td>\n",
       "    </tr>\n",
       "    <tr>\n",
       "      <th>loan_status</th>\n",
       "      <td>Current</td>\n",
       "      <td>Current</td>\n",
       "      <td>Current</td>\n",
       "      <td>Fully Paid</td>\n",
       "      <td>Current</td>\n",
       "    </tr>\n",
       "    <tr>\n",
       "      <th>purpose</th>\n",
       "      <td>debt_consolidation</td>\n",
       "      <td>debt_consolidation</td>\n",
       "      <td>credit_card</td>\n",
       "      <td>debt_consolidation</td>\n",
       "      <td>debt_consolidation</td>\n",
       "    </tr>\n",
       "    <tr>\n",
       "      <th>dti</th>\n",
       "      <td>15.24</td>\n",
       "      <td>16</td>\n",
       "      <td>26.54</td>\n",
       "      <td>33.45</td>\n",
       "      <td>23.22</td>\n",
       "    </tr>\n",
       "    <tr>\n",
       "      <th>delinq_2yrs</th>\n",
       "      <td>1</td>\n",
       "      <td>0</td>\n",
       "      <td>0</td>\n",
       "      <td>0</td>\n",
       "      <td>0</td>\n",
       "    </tr>\n",
       "    <tr>\n",
       "      <th>earliest_cr_line</th>\n",
       "      <td>2001-12-01</td>\n",
       "      <td>2003-02-01</td>\n",
       "      <td>2009-06-01</td>\n",
       "      <td>1996-11-01</td>\n",
       "      <td>2003-04-01</td>\n",
       "    </tr>\n",
       "    <tr>\n",
       "      <th>open_acc</th>\n",
       "      <td>8</td>\n",
       "      <td>17</td>\n",
       "      <td>21</td>\n",
       "      <td>9</td>\n",
       "      <td>21</td>\n",
       "    </tr>\n",
       "    <tr>\n",
       "      <th>pub_rec</th>\n",
       "      <td>0</td>\n",
       "      <td>0</td>\n",
       "      <td>0</td>\n",
       "      <td>0</td>\n",
       "      <td>1</td>\n",
       "    </tr>\n",
       "    <tr>\n",
       "      <th>fico_range_high</th>\n",
       "      <td>704</td>\n",
       "      <td>759</td>\n",
       "      <td>719</td>\n",
       "      <td>764</td>\n",
       "      <td>694</td>\n",
       "    </tr>\n",
       "    <tr>\n",
       "      <th>fico_range_low</th>\n",
       "      <td>700</td>\n",
       "      <td>755</td>\n",
       "      <td>715</td>\n",
       "      <td>760</td>\n",
       "      <td>690</td>\n",
       "    </tr>\n",
       "    <tr>\n",
       "      <th>revol_bal</th>\n",
       "      <td>18192</td>\n",
       "      <td>642</td>\n",
       "      <td>14489</td>\n",
       "      <td>2684</td>\n",
       "      <td>11116</td>\n",
       "    </tr>\n",
       "    <tr>\n",
       "      <th>revol_util</th>\n",
       "      <td>74</td>\n",
       "      <td>6.2</td>\n",
       "      <td>58.4</td>\n",
       "      <td>27.1</td>\n",
       "      <td>38.7</td>\n",
       "    </tr>\n",
       "    <tr>\n",
       "      <th>total_pymnt</th>\n",
       "      <td>15924.5</td>\n",
       "      <td>4522.81</td>\n",
       "      <td>8767.38</td>\n",
       "      <td>7731.25</td>\n",
       "      <td>4198.06</td>\n",
       "    </tr>\n",
       "    <tr>\n",
       "      <th>last_pymnt_d</th>\n",
       "      <td>2018-04-01</td>\n",
       "      <td>2018-04-01</td>\n",
       "      <td>2018-03-01</td>\n",
       "      <td>2017-12-01</td>\n",
       "      <td>2018-03-01</td>\n",
       "    </tr>\n",
       "    <tr>\n",
       "      <th>recoveries</th>\n",
       "      <td>0</td>\n",
       "      <td>0</td>\n",
       "      <td>0</td>\n",
       "      <td>0</td>\n",
       "      <td>0</td>\n",
       "    </tr>\n",
       "  </tbody>\n",
       "</table>\n",
       "</div>"
      ],
      "text/plain": [
       "                                      0                   1            2  \\\n",
       "id                             90281097            90641854     90451810   \n",
       "loan_amnt                         35000               12000        15000   \n",
       "funded_amnt                       35000               12000        15000   \n",
       "term                          60 months           60 months    36 months   \n",
       "int_rate                          17.99                9.49        13.99   \n",
       "installment                      888.58              251.97        512.6   \n",
       "grade                                 D                   B            C   \n",
       "emp_length                      9 years              1 year      3 years   \n",
       "home_ownership                 MORTGAGE            MORTGAGE         RENT   \n",
       "annual_inc                        70000               70000        67000   \n",
       "verification_status        Not Verified     Source Verified     Verified   \n",
       "issue_d                      2016-09-01          2016-09-01   2016-09-01   \n",
       "loan_status                     Current             Current      Current   \n",
       "purpose              debt_consolidation  debt_consolidation  credit_card   \n",
       "dti                               15.24                  16        26.54   \n",
       "delinq_2yrs                           1                   0            0   \n",
       "earliest_cr_line             2001-12-01          2003-02-01   2009-06-01   \n",
       "open_acc                              8                  17           21   \n",
       "pub_rec                               0                   0            0   \n",
       "fico_range_high                     704                 759          719   \n",
       "fico_range_low                      700                 755          715   \n",
       "revol_bal                         18192                 642        14489   \n",
       "revol_util                           74                 6.2         58.4   \n",
       "total_pymnt                     15924.5             4522.81      8767.38   \n",
       "last_pymnt_d                 2018-04-01          2018-04-01   2018-03-01   \n",
       "recoveries                            0                   0            0   \n",
       "\n",
       "                                      3                   4  \n",
       "id                             90723253            90723183  \n",
       "loan_amnt                          7000                7000  \n",
       "funded_amnt                        7000                7000  \n",
       "term                          36 months           36 months  \n",
       "int_rate                          10.99               12.79  \n",
       "installment                      229.14              235.16  \n",
       "grade                                 B                   C  \n",
       "emp_length                     < 1 year             7 years  \n",
       "home_ownership                 MORTGAGE                RENT  \n",
       "annual_inc                        38000               45386  \n",
       "verification_status        Not Verified            Verified  \n",
       "issue_d                      2016-09-01          2016-09-01  \n",
       "loan_status                  Fully Paid             Current  \n",
       "purpose              debt_consolidation  debt_consolidation  \n",
       "dti                               33.45               23.22  \n",
       "delinq_2yrs                           0                   0  \n",
       "earliest_cr_line             1996-11-01          2003-04-01  \n",
       "open_acc                              9                  21  \n",
       "pub_rec                               0                   1  \n",
       "fico_range_high                     764                 694  \n",
       "fico_range_low                      760                 690  \n",
       "revol_bal                          2684               11116  \n",
       "revol_util                         27.1                38.7  \n",
       "total_pymnt                     7731.25             4198.06  \n",
       "last_pymnt_d                 2017-12-01          2018-03-01  \n",
       "recoveries                            0                   0  "
      ]
     },
     "execution_count": 50,
     "metadata": {},
     "output_type": "execute_result"
    }
   ],
   "source": [
    "final_data.head().T"
   ]
  },
  {
   "cell_type": "markdown",
   "metadata": {},
   "source": [
    "## Calculate returns for each loan"
   ]
  },
  {
   "cell_type": "code",
   "execution_count": 51,
   "metadata": {},
   "outputs": [],
   "source": [
    "# Define the names of the four returns we'll be calculating as described in Q.6\n",
    "# ret_PESS: Pessimistic return\n",
    "# ret_OPT: Optimistic return\n",
    "# ret_INTa, ret_INTb: Method3 at two different values of \"i\" \n",
    "ret_cols = [\"ret_PESS\", \"ret_OPT\", \"ret_INTa\", \"ret_INTb\"]"
   ]
  },
  {
   "cell_type": "code",
   "execution_count": 52,
   "metadata": {},
   "outputs": [
    {
     "name": "stderr",
     "output_type": "stream",
     "text": [
      "/anaconda3/lib/python3.6/site-packages/ipykernel_launcher.py:2: SettingWithCopyWarning: \n",
      "A value is trying to be set on a copy of a slice from a DataFrame.\n",
      "Try using .loc[row_indexer,col_indexer] = value instead\n",
      "\n",
      "See the caveats in the documentation: http://pandas.pydata.org/pandas-docs/stable/indexing.html#indexing-view-versus-copy\n",
      "  \n"
     ]
    },
    {
     "name": "stdout",
     "output_type": "stream",
     "text": [
      "Removed 8006 rows\n"
     ]
    }
   ],
   "source": [
    "# Remove all rows for loans that were paid back on the days they were issued\n",
    "final_data['loan_length'] = (final_data.last_pymnt_d - final_data.issue_d) / np.timedelta64(1, 'M')\n",
    "n_rows = len(final_data)\n",
    "\n",
    "final_data = final_data.loc[final_data['loan_length'] > 0] # select rows where loan_length is not 0. \n",
    "\n",
    "print(\"Removed \" + str(n_rows - len(final_data)) + \" rows\")"
   ]
  },
  {
   "cell_type": "markdown",
   "metadata": {},
   "source": [
    "### M1-Pessimistic Method"
   ]
  },
  {
   "cell_type": "code",
   "execution_count": 53,
   "metadata": {},
   "outputs": [
    {
     "data": {
      "text/plain": [
       "0    60\n",
       "1    60\n",
       "2    36\n",
       "3    36\n",
       "4    36\n",
       "Name: term, dtype: int64"
      ]
     },
     "execution_count": 53,
     "metadata": {},
     "output_type": "execute_result"
    }
   ],
   "source": [
    "final_data.term.str.extract('(\\d+)',expand=False).astype(int).head()"
   ]
  },
  {
   "cell_type": "code",
   "execution_count": 54,
   "metadata": {},
   "outputs": [],
   "source": [
    "# Calculate the return using a simple annualized profit margin\n",
    "# Pessimistic definition (Handout 6a.) (M1)\n",
    "\n",
    "final_data['term_num'] = final_data.term.str.extract('(\\d+)',expand=False).astype(int) # length of loan in months\n",
    "\n",
    "final_data['ret_PESS'] = ((final_data['total_pymnt']-final_data['loan_amnt'])/final_data['loan_amnt'] ) * (12/final_data['term_num'])"
   ]
  },
  {
   "cell_type": "markdown",
   "metadata": {},
   "source": [
    "### M2-Optimistic Method"
   ]
  },
  {
   "cell_type": "code",
   "execution_count": 55,
   "metadata": {},
   "outputs": [],
   "source": [
    "# Assuming that if a loan gives a positive return, we can\n",
    "# immediately find a similar loan to invest in; if the loan\n",
    "# takes a loss, we use M1-pessimistic to compute the return\n",
    "\n",
    "final_data['ret_OPT'] = ((final_data['total_pymnt']-final_data['loan_amnt'])/final_data['loan_amnt'] ) * (12/final_data['loan_length'])\n",
    "\n",
    "final_data.loc[final_data.ret_OPT < 0,'ret_OPT'] = final_data.loc[final_data.ret_OPT < 0,'ret_PESS']"
   ]
  },
  {
   "cell_type": "markdown",
   "metadata": {},
   "source": [
    "### Method 3"
   ]
  },
  {
   "cell_type": "code",
   "execution_count": 56,
   "metadata": {},
   "outputs": [],
   "source": [
    "def ret_method_3(T, i):\n",
    "    '''\n",
    "    Given an investment time horizon (in months) and re-investment\n",
    "    interest rate, calculate the return of each loan\n",
    "    '''\n",
    "    \n",
    "    # Assuming that the total amount paid back was paid at equal\n",
    "    # intervals during the duration of the loan, calculate the\n",
    "    # size of each of these installment\n",
    "    m = final_data.loan_length\n",
    "    f = final_data.funded_amnt\n",
    "    actual_installment = (final_data.total_pymnt - final_data.recoveries) / m #p/m\n",
    "\n",
    "    # Assuming the amount is immediately re-invested at the prime\n",
    "    # rate, find the total amount of money we'll have by the end\n",
    "    # of the loan\n",
    "    # compute the quantity given in [] in eq.2.3 of handout\n",
    "    # (p/m) * (1-(1+i)^m) / (1 - (1+i))\n",
    "\n",
    "    cash_by_end_of_loan = actual_installment * (1-(1+i)**m)/(1-(1+i))\n",
    "    \n",
    "    cash_by_end_of_loan = cash_by_end_of_loan + final_data.recoveries\n",
    "    \n",
    "    # Assuming that cash is then re-invested at the prime rate,\n",
    "    # with monthly re-investment, until T months from the start\n",
    "    # of the loan\n",
    "    remaining_months = T - final_data['loan_length']\n",
    "    final_return = cash_by_end_of_loan * ((1+i)**remaining_months) - f\n",
    "\n",
    "    # Find the percentage return\n",
    "    ret_val = (12/T) * (1/f) * final_return\n",
    "    return ret_val"
   ]
  },
  {
   "cell_type": "code",
   "execution_count": 57,
   "metadata": {},
   "outputs": [],
   "source": [
    "final_data['ret_INTa'] = ret_method_3(60,0.001) # call ret_method_3 with T=60, i=0.001\n",
    "final_data['ret_INTb'] = ret_method_3(60,0.005) # call ret_method_3 with T=60, i=0.005"
   ]
  },
  {
   "cell_type": "code",
   "execution_count": 58,
   "metadata": {},
   "outputs": [
    {
     "data": {
      "text/html": [
       "<div>\n",
       "<style scoped>\n",
       "    .dataframe tbody tr th:only-of-type {\n",
       "        vertical-align: middle;\n",
       "    }\n",
       "\n",
       "    .dataframe tbody tr th {\n",
       "        vertical-align: top;\n",
       "    }\n",
       "\n",
       "    .dataframe thead th {\n",
       "        text-align: right;\n",
       "    }\n",
       "</style>\n",
       "<table border=\"1\" class=\"dataframe\">\n",
       "  <thead>\n",
       "    <tr style=\"text-align: right;\">\n",
       "      <th></th>\n",
       "      <th>0</th>\n",
       "      <th>1</th>\n",
       "      <th>2</th>\n",
       "      <th>3</th>\n",
       "      <th>4</th>\n",
       "    </tr>\n",
       "  </thead>\n",
       "  <tbody>\n",
       "    <tr>\n",
       "      <th>id</th>\n",
       "      <td>90281097</td>\n",
       "      <td>90641854</td>\n",
       "      <td>90451810</td>\n",
       "      <td>90723253</td>\n",
       "      <td>90723183</td>\n",
       "    </tr>\n",
       "    <tr>\n",
       "      <th>loan_amnt</th>\n",
       "      <td>35000</td>\n",
       "      <td>12000</td>\n",
       "      <td>15000</td>\n",
       "      <td>7000</td>\n",
       "      <td>7000</td>\n",
       "    </tr>\n",
       "    <tr>\n",
       "      <th>funded_amnt</th>\n",
       "      <td>35000</td>\n",
       "      <td>12000</td>\n",
       "      <td>15000</td>\n",
       "      <td>7000</td>\n",
       "      <td>7000</td>\n",
       "    </tr>\n",
       "    <tr>\n",
       "      <th>term</th>\n",
       "      <td>60 months</td>\n",
       "      <td>60 months</td>\n",
       "      <td>36 months</td>\n",
       "      <td>36 months</td>\n",
       "      <td>36 months</td>\n",
       "    </tr>\n",
       "    <tr>\n",
       "      <th>int_rate</th>\n",
       "      <td>17.99</td>\n",
       "      <td>9.49</td>\n",
       "      <td>13.99</td>\n",
       "      <td>10.99</td>\n",
       "      <td>12.79</td>\n",
       "    </tr>\n",
       "    <tr>\n",
       "      <th>installment</th>\n",
       "      <td>888.58</td>\n",
       "      <td>251.97</td>\n",
       "      <td>512.6</td>\n",
       "      <td>229.14</td>\n",
       "      <td>235.16</td>\n",
       "    </tr>\n",
       "    <tr>\n",
       "      <th>grade</th>\n",
       "      <td>D</td>\n",
       "      <td>B</td>\n",
       "      <td>C</td>\n",
       "      <td>B</td>\n",
       "      <td>C</td>\n",
       "    </tr>\n",
       "    <tr>\n",
       "      <th>emp_length</th>\n",
       "      <td>9 years</td>\n",
       "      <td>1 year</td>\n",
       "      <td>3 years</td>\n",
       "      <td>&lt; 1 year</td>\n",
       "      <td>7 years</td>\n",
       "    </tr>\n",
       "    <tr>\n",
       "      <th>home_ownership</th>\n",
       "      <td>MORTGAGE</td>\n",
       "      <td>MORTGAGE</td>\n",
       "      <td>RENT</td>\n",
       "      <td>MORTGAGE</td>\n",
       "      <td>RENT</td>\n",
       "    </tr>\n",
       "    <tr>\n",
       "      <th>annual_inc</th>\n",
       "      <td>70000</td>\n",
       "      <td>70000</td>\n",
       "      <td>67000</td>\n",
       "      <td>38000</td>\n",
       "      <td>45386</td>\n",
       "    </tr>\n",
       "    <tr>\n",
       "      <th>verification_status</th>\n",
       "      <td>Not Verified</td>\n",
       "      <td>Source Verified</td>\n",
       "      <td>Verified</td>\n",
       "      <td>Not Verified</td>\n",
       "      <td>Verified</td>\n",
       "    </tr>\n",
       "    <tr>\n",
       "      <th>issue_d</th>\n",
       "      <td>2016-09-01</td>\n",
       "      <td>2016-09-01</td>\n",
       "      <td>2016-09-01</td>\n",
       "      <td>2016-09-01</td>\n",
       "      <td>2016-09-01</td>\n",
       "    </tr>\n",
       "    <tr>\n",
       "      <th>loan_status</th>\n",
       "      <td>Current</td>\n",
       "      <td>Current</td>\n",
       "      <td>Current</td>\n",
       "      <td>Fully Paid</td>\n",
       "      <td>Current</td>\n",
       "    </tr>\n",
       "    <tr>\n",
       "      <th>purpose</th>\n",
       "      <td>debt_consolidation</td>\n",
       "      <td>debt_consolidation</td>\n",
       "      <td>credit_card</td>\n",
       "      <td>debt_consolidation</td>\n",
       "      <td>debt_consolidation</td>\n",
       "    </tr>\n",
       "    <tr>\n",
       "      <th>dti</th>\n",
       "      <td>15.24</td>\n",
       "      <td>16</td>\n",
       "      <td>26.54</td>\n",
       "      <td>33.45</td>\n",
       "      <td>23.22</td>\n",
       "    </tr>\n",
       "    <tr>\n",
       "      <th>delinq_2yrs</th>\n",
       "      <td>1</td>\n",
       "      <td>0</td>\n",
       "      <td>0</td>\n",
       "      <td>0</td>\n",
       "      <td>0</td>\n",
       "    </tr>\n",
       "    <tr>\n",
       "      <th>earliest_cr_line</th>\n",
       "      <td>2001-12-01</td>\n",
       "      <td>2003-02-01</td>\n",
       "      <td>2009-06-01</td>\n",
       "      <td>1996-11-01</td>\n",
       "      <td>2003-04-01</td>\n",
       "    </tr>\n",
       "    <tr>\n",
       "      <th>open_acc</th>\n",
       "      <td>8</td>\n",
       "      <td>17</td>\n",
       "      <td>21</td>\n",
       "      <td>9</td>\n",
       "      <td>21</td>\n",
       "    </tr>\n",
       "    <tr>\n",
       "      <th>pub_rec</th>\n",
       "      <td>0</td>\n",
       "      <td>0</td>\n",
       "      <td>0</td>\n",
       "      <td>0</td>\n",
       "      <td>1</td>\n",
       "    </tr>\n",
       "    <tr>\n",
       "      <th>fico_range_high</th>\n",
       "      <td>704</td>\n",
       "      <td>759</td>\n",
       "      <td>719</td>\n",
       "      <td>764</td>\n",
       "      <td>694</td>\n",
       "    </tr>\n",
       "    <tr>\n",
       "      <th>fico_range_low</th>\n",
       "      <td>700</td>\n",
       "      <td>755</td>\n",
       "      <td>715</td>\n",
       "      <td>760</td>\n",
       "      <td>690</td>\n",
       "    </tr>\n",
       "    <tr>\n",
       "      <th>revol_bal</th>\n",
       "      <td>18192</td>\n",
       "      <td>642</td>\n",
       "      <td>14489</td>\n",
       "      <td>2684</td>\n",
       "      <td>11116</td>\n",
       "    </tr>\n",
       "    <tr>\n",
       "      <th>revol_util</th>\n",
       "      <td>74</td>\n",
       "      <td>6.2</td>\n",
       "      <td>58.4</td>\n",
       "      <td>27.1</td>\n",
       "      <td>38.7</td>\n",
       "    </tr>\n",
       "    <tr>\n",
       "      <th>total_pymnt</th>\n",
       "      <td>15924.5</td>\n",
       "      <td>4522.81</td>\n",
       "      <td>8767.38</td>\n",
       "      <td>7731.25</td>\n",
       "      <td>4198.06</td>\n",
       "    </tr>\n",
       "    <tr>\n",
       "      <th>last_pymnt_d</th>\n",
       "      <td>2018-04-01</td>\n",
       "      <td>2018-04-01</td>\n",
       "      <td>2018-03-01</td>\n",
       "      <td>2017-12-01</td>\n",
       "      <td>2018-03-01</td>\n",
       "    </tr>\n",
       "    <tr>\n",
       "      <th>recoveries</th>\n",
       "      <td>0</td>\n",
       "      <td>0</td>\n",
       "      <td>0</td>\n",
       "      <td>0</td>\n",
       "      <td>0</td>\n",
       "    </tr>\n",
       "    <tr>\n",
       "      <th>loan_length</th>\n",
       "      <td>18.9573</td>\n",
       "      <td>18.9573</td>\n",
       "      <td>17.9388</td>\n",
       "      <td>14.9818</td>\n",
       "      <td>17.9388</td>\n",
       "    </tr>\n",
       "    <tr>\n",
       "      <th>term_num</th>\n",
       "      <td>60</td>\n",
       "      <td>60</td>\n",
       "      <td>36</td>\n",
       "      <td>36</td>\n",
       "      <td>36</td>\n",
       "    </tr>\n",
       "    <tr>\n",
       "      <th>ret_PESS</th>\n",
       "      <td>-0.109003</td>\n",
       "      <td>-0.12462</td>\n",
       "      <td>-0.138503</td>\n",
       "      <td>0.0348215</td>\n",
       "      <td>-0.133426</td>\n",
       "    </tr>\n",
       "    <tr>\n",
       "      <th>ret_OPT</th>\n",
       "      <td>-0.109003</td>\n",
       "      <td>-0.12462</td>\n",
       "      <td>-0.138503</td>\n",
       "      <td>0.0836729</td>\n",
       "      <td>-0.133426</td>\n",
       "    </tr>\n",
       "    <tr>\n",
       "      <th>ret_INTa</th>\n",
       "      <td>-0.104336</td>\n",
       "      <td>-0.120754</td>\n",
       "      <td>-0.0770443</td>\n",
       "      <td>0.0326814</td>\n",
       "      <td>-0.0738403</td>\n",
       "    </tr>\n",
       "    <tr>\n",
       "      <th>ret_INTb</th>\n",
       "      <td>-0.0831744</td>\n",
       "      <td>-0.103224</td>\n",
       "      <td>-0.0495454</td>\n",
       "      <td>0.0863764</td>\n",
       "      <td>-0.0456248</td>\n",
       "    </tr>\n",
       "  </tbody>\n",
       "</table>\n",
       "</div>"
      ],
      "text/plain": [
       "                                      0                   1            2  \\\n",
       "id                             90281097            90641854     90451810   \n",
       "loan_amnt                         35000               12000        15000   \n",
       "funded_amnt                       35000               12000        15000   \n",
       "term                          60 months           60 months    36 months   \n",
       "int_rate                          17.99                9.49        13.99   \n",
       "installment                      888.58              251.97        512.6   \n",
       "grade                                 D                   B            C   \n",
       "emp_length                      9 years              1 year      3 years   \n",
       "home_ownership                 MORTGAGE            MORTGAGE         RENT   \n",
       "annual_inc                        70000               70000        67000   \n",
       "verification_status        Not Verified     Source Verified     Verified   \n",
       "issue_d                      2016-09-01          2016-09-01   2016-09-01   \n",
       "loan_status                     Current             Current      Current   \n",
       "purpose              debt_consolidation  debt_consolidation  credit_card   \n",
       "dti                               15.24                  16        26.54   \n",
       "delinq_2yrs                           1                   0            0   \n",
       "earliest_cr_line             2001-12-01          2003-02-01   2009-06-01   \n",
       "open_acc                              8                  17           21   \n",
       "pub_rec                               0                   0            0   \n",
       "fico_range_high                     704                 759          719   \n",
       "fico_range_low                      700                 755          715   \n",
       "revol_bal                         18192                 642        14489   \n",
       "revol_util                           74                 6.2         58.4   \n",
       "total_pymnt                     15924.5             4522.81      8767.38   \n",
       "last_pymnt_d                 2018-04-01          2018-04-01   2018-03-01   \n",
       "recoveries                            0                   0            0   \n",
       "loan_length                     18.9573             18.9573      17.9388   \n",
       "term_num                             60                  60           36   \n",
       "ret_PESS                      -0.109003            -0.12462    -0.138503   \n",
       "ret_OPT                       -0.109003            -0.12462    -0.138503   \n",
       "ret_INTa                      -0.104336           -0.120754   -0.0770443   \n",
       "ret_INTb                     -0.0831744           -0.103224   -0.0495454   \n",
       "\n",
       "                                      3                   4  \n",
       "id                             90723253            90723183  \n",
       "loan_amnt                          7000                7000  \n",
       "funded_amnt                        7000                7000  \n",
       "term                          36 months           36 months  \n",
       "int_rate                          10.99               12.79  \n",
       "installment                      229.14              235.16  \n",
       "grade                                 B                   C  \n",
       "emp_length                     < 1 year             7 years  \n",
       "home_ownership                 MORTGAGE                RENT  \n",
       "annual_inc                        38000               45386  \n",
       "verification_status        Not Verified            Verified  \n",
       "issue_d                      2016-09-01          2016-09-01  \n",
       "loan_status                  Fully Paid             Current  \n",
       "purpose              debt_consolidation  debt_consolidation  \n",
       "dti                               33.45               23.22  \n",
       "delinq_2yrs                           0                   0  \n",
       "earliest_cr_line             1996-11-01          2003-04-01  \n",
       "open_acc                              9                  21  \n",
       "pub_rec                               0                   1  \n",
       "fico_range_high                     764                 694  \n",
       "fico_range_low                      760                 690  \n",
       "revol_bal                          2684               11116  \n",
       "revol_util                         27.1                38.7  \n",
       "total_pymnt                     7731.25             4198.06  \n",
       "last_pymnt_d                 2017-12-01          2018-03-01  \n",
       "recoveries                            0                   0  \n",
       "loan_length                     14.9818             17.9388  \n",
       "term_num                             36                  36  \n",
       "ret_PESS                      0.0348215           -0.133426  \n",
       "ret_OPT                       0.0836729           -0.133426  \n",
       "ret_INTa                      0.0326814          -0.0738403  \n",
       "ret_INTb                      0.0863764          -0.0456248  "
      ]
     },
     "execution_count": 58,
     "metadata": {},
     "output_type": "execute_result"
    }
   ],
   "source": [
    "final_data.head().T"
   ]
  },
  {
   "cell_type": "markdown",
   "metadata": {},
   "source": [
    "### Visualize the variables"
   ]
  },
  {
   "cell_type": "code",
   "execution_count": 59,
   "metadata": {},
   "outputs": [],
   "source": [
    "def visualize_float_columns(df):\n",
    "    '''\n",
    "    This function visualizes Box-and-whisker plots for continuous variables\n",
    "    '''\n",
    "    \n",
    "    # FLoat columns\n",
    "    for i in float_cols + perc_cols + ret_cols:\n",
    "        print(i)\n",
    "        seaborn.boxplot(df[i])\n",
    "\n",
    "        # Print the three highest values\n",
    "        highest_vals = list(df[i].sort_values(ascending=False).head(3)) # get 3 highest values\n",
    "        \n",
    "        smallest_val = min(df[i])\n",
    "        \n",
    "        plt.text(smallest_val, -0.3, highest_vals[0])\n",
    "        plt.text(smallest_val, -0.2, highest_vals[1])\n",
    "        plt.text(smallest_val, -0.1, highest_vals[2])\n",
    "\n",
    "        plt.show()"
   ]
  },
  {
   "cell_type": "code",
   "execution_count": 60,
   "metadata": {},
   "outputs": [
    {
     "data": {
      "text/plain": [
       "Counter({' 60 months': 498153, ' 36 months': 1259267})"
      ]
     },
     "execution_count": 60,
     "metadata": {},
     "output_type": "execute_result"
    }
   ],
   "source": [
    "from collections import Counter\n",
    "c = Counter(final_data['term'])\n",
    "c"
   ]
  },
  {
   "cell_type": "code",
   "execution_count": 61,
   "metadata": {},
   "outputs": [],
   "source": [
    "from collections import Counter\n",
    "def visualize_cat_columns(df):\n",
    "    '''\n",
    "    Lists the distinct values for categorical columns\n",
    "    '''\n",
    "    # Categorical columns \n",
    "    for i in cat_cols:\n",
    "        print(i) # print field name\n",
    "        dataSet = set(df[i])\n",
    "        print(\"Number Distinct Values: \", len(dataSet)) # print number of distinct values\n",
    "        c = Counter(df[i])\n",
    "        for k,v in c.items():\n",
    "            print(k,\": \",v)# for each distinct value print the number of occurances\n",
    "        print(\"\")\n",
    "        print(\"\")"
   ]
  },
  {
   "cell_type": "code",
   "execution_count": 62,
   "metadata": {},
   "outputs": [],
   "source": [
    "def visualize_date_columns(df):\n",
    "    '''\n",
    "    This function visualizes a timeline density for dates\n",
    "    '''\n",
    "    \n",
    "    # Date columns\n",
    "    for i in date_cols:\n",
    "        df[df[i].isnull() == False][i].apply(lambda x : str(x.year) +\n",
    "                                                \"-\" + str(x.month)).value_counts(ascending = True).plot()\n",
    "        plt.title(i + \" (\" + str(df[i].isnull().sum()) + \" null values)\")\n",
    "        plt.show()"
   ]
  },
  {
   "cell_type": "code",
   "execution_count": 63,
   "metadata": {},
   "outputs": [
    {
     "name": "stdout",
     "output_type": "stream",
     "text": [
      "loan_amnt\n"
     ]
    },
    {
     "data": {
      "image/png": "[encoded data removed]",
      "text/plain": [
       "<Figure size 432x288 with 1 Axes>"
      ]
     },
     "metadata": {
      "needs_background": "light"
     },
     "output_type": "display_data"
    },
    {
     "name": "stdout",
     "output_type": "stream",
     "text": [
      "funded_amnt\n"
     ]
    },
    {
     "data": {
      "image/png": "[encoded data removed]",
      "text/plain": [
       "<Figure size 432x288 with 1 Axes>"
      ]
     },
     "metadata": {
      "needs_background": "light"
     },
     "output_type": "display_data"
    },
    {
     "name": "stdout",
     "output_type": "stream",
     "text": [
      "installment\n"
     ]
    },
    {
     "data": {
      "image/png": "[encoded data removed]",
      "text/plain": [
       "<Figure size 432x288 with 1 Axes>"
      ]
     },
     "metadata": {
      "needs_background": "light"
     },
     "output_type": "display_data"
    },
    {
     "name": "stdout",
     "output_type": "stream",
     "text": [
      "annual_inc\n"
     ]
    },
    {
     "data": {
      "image/png": "[encoded data removed]",
      "text/plain": [
       "<Figure size 432x288 with 1 Axes>"
      ]
     },
     "metadata": {
      "needs_background": "light"
     },
     "output_type": "display_data"
    },
    {
     "name": "stdout",
     "output_type": "stream",
     "text": [
      "dti\n"
     ]
    },
    {
     "data": {
      "image/png": "[encoded data removed]",
      "text/plain": [
       "<Figure size 432x288 with 1 Axes>"
      ]
     },
     "metadata": {
      "needs_background": "light"
     },
     "output_type": "display_data"
    },
    {
     "name": "stdout",
     "output_type": "stream",
     "text": [
      "delinq_2yrs\n"
     ]
    },
    {
     "data": {
      "image/png": "[encoded data removed]",
      "text/plain": [
       "<Figure size 432x288 with 1 Axes>"
      ]
     },
     "metadata": {
      "needs_background": "light"
     },
     "output_type": "display_data"
    },
    {
     "name": "stdout",
     "output_type": "stream",
     "text": [
      "open_acc\n"
     ]
    },
    {
     "data": {
      "image/png": "[encoded data removed]",
      "text/plain": [
       "<Figure size 432x288 with 1 Axes>"
      ]
     },
     "metadata": {
      "needs_background": "light"
     },
     "output_type": "display_data"
    },
    {
     "name": "stdout",
     "output_type": "stream",
     "text": [
      "pub_rec\n"
     ]
    },
    {
     "data": {
      "image/png": "[encoded data removed]",
      "text/plain": [
       "<Figure size 432x288 with 1 Axes>"
      ]
     },
     "metadata": {
      "needs_background": "light"
     },
     "output_type": "display_data"
    },
    {
     "name": "stdout",
     "output_type": "stream",
     "text": [
      "fico_range_high\n"
     ]
    },
    {
     "data": {
      "image/png": "[encoded data removed]",
      "text/plain": [
       "<Figure size 432x288 with 1 Axes>"
      ]
     },
     "metadata": {
      "needs_background": "light"
     },
     "output_type": "display_data"
    },
    {
     "name": "stdout",
     "output_type": "stream",
     "text": [
      "fico_range_low\n"
     ]
    },
    {
     "data": {
      "image/png": "[encoded data removed]",
      "text/plain": [
       "<Figure size 432x288 with 1 Axes>"
      ]
     },
     "metadata": {
      "needs_background": "light"
     },
     "output_type": "display_data"
    },
    {
     "name": "stdout",
     "output_type": "stream",
     "text": [
      "revol_bal\n"
     ]
    },
    {
     "data": {
      "image/png": "[encoded data removed]",
      "text/plain": [
       "<Figure size 432x288 with 1 Axes>"
      ]
     },
     "metadata": {
      "needs_background": "light"
     },
     "output_type": "display_data"
    },
    {
     "name": "stdout",
     "output_type": "stream",
     "text": [
      "total_pymnt\n"
     ]
    },
    {
     "data": {
      "image/png": "[encoded data removed]",
      "text/plain": [
       "<Figure size 432x288 with 1 Axes>"
      ]
     },
     "metadata": {
      "needs_background": "light"
     },
     "output_type": "display_data"
    },
    {
     "name": "stdout",
     "output_type": "stream",
     "text": [
      "recoveries\n"
     ]
    },
    {
     "data": {
      "image/png": "[encoded data removed]",
      "text/plain": [
       "<Figure size 432x288 with 1 Axes>"
      ]
     },
     "metadata": {
      "needs_background": "light"
     },
     "output_type": "display_data"
    },
    {
     "name": "stdout",
     "output_type": "stream",
     "text": [
      "int_rate\n"
     ]
    },
    {
     "data": {
      "image/png": "[encoded data removed]",
      "text/plain": [
       "<Figure size 432x288 with 1 Axes>"
      ]
     },
     "metadata": {
      "needs_background": "light"
     },
     "output_type": "display_data"
    },
    {
     "name": "stdout",
     "output_type": "stream",
     "text": [
      "revol_util\n"
     ]
    },
    {
     "data": {
      "image/png": "[encoded data removed]",
      "text/plain": [
       "<Figure size 432x288 with 1 Axes>"
      ]
     },
     "metadata": {
      "needs_background": "light"
     },
     "output_type": "display_data"
    },
    {
     "name": "stdout",
     "output_type": "stream",
     "text": [
      "ret_PESS\n"
     ]
    },
    {
     "data": {
      "image/png": "[encoded data removed]",
      "text/plain": [
       "<Figure size 432x288 with 1 Axes>"
      ]
     },
     "metadata": {
      "needs_background": "light"
     },
     "output_type": "display_data"
    },
    {
     "name": "stdout",
     "output_type": "stream",
     "text": [
      "ret_OPT\n"
     ]
    },
    {
     "data": {
      "image/png": "[encoded data removed]",
      "text/plain": [
       "<Figure size 432x288 with 1 Axes>"
      ]
     },
     "metadata": {
      "needs_background": "light"
     },
     "output_type": "display_data"
    },
    {
     "name": "stdout",
     "output_type": "stream",
     "text": [
      "ret_INTa\n"
     ]
    },
    {
     "data": {
      "image/png": "[encoded data removed]",
      "text/plain": [
       "<Figure size 432x288 with 1 Axes>"
      ]
     },
     "metadata": {
      "needs_background": "light"
     },
     "output_type": "display_data"
    },
    {
     "name": "stdout",
     "output_type": "stream",
     "text": [
      "ret_INTb\n"
     ]
    },
    {
     "data": {
      "image/png": "[encoded data removed]",
      "text/plain": [
       "<Figure size 432x288 with 1 Axes>"
      ]
     },
     "metadata": {
      "needs_background": "light"
     },
     "output_type": "display_data"
    },
    {
     "name": "stdout",
     "output_type": "stream",
     "text": [
      "term\n",
      "Number Distinct Values:  2\n",
      " 60 months :  498153\n",
      " 36 months :  1259267\n",
      "\n",
      "\n",
      "grade\n",
      "Number Distinct Values:  7\n",
      "D :  253978\n",
      "B :  520242\n",
      "C :  520840\n",
      "A :  296891\n",
      "E :  115865\n",
      "F :  38291\n",
      "G :  11313\n",
      "\n",
      "\n",
      "emp_length\n",
      "Number Distinct Values:  12\n",
      "9 years :  66460\n",
      "1 year :  114697\n",
      "3 years :  139460\n",
      "< 1 year :  145711\n",
      "7 years :  74401\n",
      "10+ years :  585004\n",
      "nan :  104376\n",
      "5 years :  108317\n",
      "8 years :  75562\n",
      "2 years :  158224\n",
      "4 years :  104876\n",
      "6 years :  80332\n",
      "\n",
      "\n",
      "home_ownership\n",
      "Number Distinct Values:  6\n",
      "MORTGAGE :  868757\n",
      "RENT :  696340\n",
      "OWN :  191584\n",
      "ANY :  503\n",
      "OTHER :  182\n",
      "NONE :  54\n",
      "\n",
      "\n",
      "verification_status\n",
      "Number Distinct Values:  3\n",
      "Not Verified :  561369\n",
      "Source Verified :  667628\n",
      "Verified :  528423\n",
      "\n",
      "\n",
      "loan_status\n",
      "Number Distinct Values:  9\n",
      "Current :  792304\n",
      "Fully Paid :  736866\n",
      "Charged Off :  190246\n",
      "Late (31-120 days) :  20365\n",
      "Late (16-30 days) :  5758\n",
      "In Grace Period :  8753\n",
      "Default :  391\n",
      "Does not meet the credit policy. Status:Fully Paid :  1988\n",
      "Does not meet the credit policy. Status:Charged Off :  749\n",
      "\n",
      "\n",
      "purpose\n",
      "Number Distinct Values:  14\n",
      "debt_consolidation :  1014350\n",
      "credit_card :  388030\n",
      "home_improvement :  117022\n",
      "other :  103498\n",
      "medical :  20667\n",
      "major_purchase :  38438\n",
      "car :  18822\n",
      "moving :  12185\n",
      "house :  8561\n",
      "small_business :  19992\n",
      "vacation :  11943\n",
      "renewable_energy :  1153\n",
      "wedding :  2338\n",
      "educational :  421\n",
      "\n",
      "\n"
     ]
    },
    {
     "data": {
      "image/png": "[encoded data removed]",
      "text/plain": [
       "<Figure size 432x288 with 1 Axes>"
      ]
     },
     "metadata": {
      "needs_background": "light"
     },
     "output_type": "display_data"
    },
    {
     "data": {
      "image/png": "[encoded data removed]",
      "text/plain": [
       "<Figure size 432x288 with 1 Axes>"
      ]
     },
     "metadata": {
      "needs_background": "light"
     },
     "output_type": "display_data"
    },
    {
     "data": {
      "image/png": "[encoded data removed]",
      "text/plain": [
       "<Figure size 432x288 with 1 Axes>"
      ]
     },
     "metadata": {
      "needs_background": "light"
     },
     "output_type": "display_data"
    }
   ],
   "source": [
    "# visualize continuous features\n",
    "visualize_float_columns(final_data)\n",
    "\n",
    "# visulaize categorical features\n",
    "visualize_cat_columns(final_data)\n",
    "\n",
    "# visualize date columns\n",
    "visualize_date_columns(final_data)"
   ]
  },
  {
   "cell_type": "markdown",
   "metadata": {},
   "source": [
    "### Handle outliers"
   ]
  },
  {
   "cell_type": "code",
   "execution_count": 64,
   "metadata": {},
   "outputs": [],
   "source": [
    "#I want to try and do this using a hat matrix rather than doing feature by feature.  \n",
    "#let's see how it turns out!\n",
    "\n",
    "#Don't run this code! will take forever and not finish.\n",
    "\n",
    "# hat_m = final_data(np.linalg.inv(final_data.T.dot(final_data)).dot(final_data.T))\n",
    "# hat_v = np.sum(hat_m **2,0)\n",
    "\n",
    "# plt.scatter(range(len(hat_v)), hat_v, s=1000*hat_v, alpha=0.6)"
   ]
  },
  {
   "cell_type": "code",
   "execution_count": 65,
   "metadata": {},
   "outputs": [
    {
     "data": {
      "text/plain": [
       "(1757420, 32)"
      ]
     },
     "execution_count": 65,
     "metadata": {},
     "output_type": "execute_result"
    }
   ],
   "source": [
    "final_data.shape"
   ]
  },
  {
   "cell_type": "code",
   "execution_count": 66,
   "metadata": {},
   "outputs": [
    {
     "name": "stdout",
     "output_type": "stream",
     "text": [
      "max:  892.3\n",
      "mean:  52.18902954641218\n",
      "Cutoff:  182.0\n"
     ]
    },
    {
     "data": {
      "text/plain": [
       "<matplotlib.axes._subplots.AxesSubplot at 0x1b0a664fd0>"
      ]
     },
     "execution_count": 66,
     "metadata": {},
     "output_type": "execute_result"
    },
    {
     "data": {
      "image/png": "[encoded data removed]",
      "text/plain": [
       "<Figure size 432x288 with 1 Axes>"
      ]
     },
     "metadata": {
      "needs_background": "light"
     },
     "output_type": "display_data"
    }
   ],
   "source": [
    "print(\"max: \",final_data['revol_util'].max())\n",
    "print(\"mean: \", final_data['revol_util'].mean())\n",
    "IQR = (final_data['revol_util'].quantile([.75]).loc[.75] - \n",
    "           final_data['revol_util'].quantile([.25]).loc[.25])\n",
    "print(\"Cutoff: \",final_data['revol_util'].quantile([.75]).loc[.75]+3*IQR )\n",
    "seaborn.boxplot(final_data['revol_util'])"
   ]
  },
  {
   "cell_type": "code",
   "execution_count": 67,
   "metadata": {},
   "outputs": [
    {
     "name": "stdout",
     "output_type": "stream",
     "text": [
      "Removed 76310 rows\n"
     ]
    }
   ],
   "source": [
    "# There are quite a few outliers. \n",
    "# Please identify top-k (decide this based on the visualization) features where outliers are most obvious\n",
    "n_rows = len(final_data)\n",
    "\n",
    "#features that have some major outliers: annual_inc, dti, revol_bal,\n",
    "#deling_2yrs, open_acc, pub_rec, revol_util, recoveries \n",
    "\n",
    "#Basing on 3*IQR+75% percentile as cutoff point\n",
    "\n",
    "final_data_2 = final_data[final_data['annual_inc']<230_000] #28404 rows removed \n",
    "final_data_2 = final_data_2[final_data_2['dti']<62] #31926 (total) rows removed\n",
    "final_data_2 = final_data_2[final_data_2['revol_bal']<63050] #65512 (total) rows removed\n",
    "final_data_2 = final_data_2[final_data_2['delinq_2yrs']<10] #66943 (total) rows removed\n",
    "final_data_2 = final_data_2[final_data_2['open_acc']<=32] #75050 (total) rows removed\n",
    "final_data_2 = final_data_2[final_data_2['pub_rec']<=10] #75237 (total) rows removed\n",
    "final_data_2 = final_data_2[final_data_2['revol_util']<=182] #76310 (total) rows removed\n",
    "\n",
    "print(\"Removed \" + str(n_rows - len(final_data_2)) + \" rows\")"
   ]
  },
  {
   "cell_type": "code",
   "execution_count": 68,
   "metadata": {},
   "outputs": [
    {
     "name": "stdout",
     "output_type": "stream",
     "text": [
      "max:  180.3\n",
      "mean:  51.96304818839932\n",
      "Cutoff:  181.0\n"
     ]
    },
    {
     "data": {
      "text/plain": [
       "<matplotlib.axes._subplots.AxesSubplot at 0x1b29aaca90>"
      ]
     },
     "execution_count": 68,
     "metadata": {},
     "output_type": "execute_result"
    },
    {
     "data": {
      "image/png": "[encoded data removed]",
      "text/plain": [
       "<Figure size 432x288 with 1 Axes>"
      ]
     },
     "metadata": {
      "needs_background": "light"
     },
     "output_type": "display_data"
    }
   ],
   "source": [
    "print(\"max: \",final_data_2['revol_util'].max())\n",
    "print(\"mean: \", final_data_2['revol_util'].mean())\n",
    "IQR = (final_data_2['revol_util'].quantile([.75]).loc[.75] - \n",
    "           final_data_2['revol_util'].quantile([.25]).loc[.25])\n",
    "print(\"Cutoff: \",final_data_2['revol_util'].quantile([.75]).loc[.75]+3*IQR )\n",
    "seaborn.boxplot(final_data_2['revol_util'])"
   ]
  },
  {
   "cell_type": "code",
   "execution_count": 69,
   "metadata": {},
   "outputs": [
    {
     "data": {
      "text/plain": [
       "Counter({'Current': 751927,\n",
       "         'Fully Paid': 708632,\n",
       "         'Charged Off': 184457,\n",
       "         'Late (31-120 days)': 19601,\n",
       "         'Late (16-30 days)': 5448,\n",
       "         'In Grace Period': 8293,\n",
       "         'Default': 379,\n",
       "         'Does not meet the credit policy. Status:Fully Paid': 1713,\n",
       "         'Does not meet the credit policy. Status:Charged Off': 660})"
      ]
     },
     "execution_count": 69,
     "metadata": {},
     "output_type": "execute_result"
    }
   ],
   "source": [
    "Counter(final_data_2['loan_status'])"
   ]
  },
  {
   "cell_type": "code",
   "execution_count": 70,
   "metadata": {},
   "outputs": [
    {
     "name": "stdout",
     "output_type": "stream",
     "text": [
      "Removed 751927 rows\n"
     ]
    }
   ],
   "source": [
    "# Remove all loans that are still current\n",
    "n_rows = len(final_data_2)\n",
    "\n",
    "final_data_2 = final_data_2[~(final_data_2['loan_status']=='Current')]\n",
    "\n",
    "print(\"Removed \" + str(n_rows - len(final_data_2)) + \" rows\")"
   ]
  },
  {
   "cell_type": "code",
   "execution_count": 71,
   "metadata": {},
   "outputs": [
    {
     "name": "stdout",
     "output_type": "stream",
     "text": [
      "Removed 8371 rows\n"
     ]
    }
   ],
   "source": [
    "# Only include loans isssued since 2010\n",
    "n_rows = len(final_data_2)\n",
    "\n",
    "final_data_2 = final_data_2[final_data_2['issue_d']>datetime.date(2010, 1, 1)]\n",
    "\n",
    "print(\"Removed \" + str(n_rows - len(final_data_2)) + \" rows\")"
   ]
  },
  {
   "cell_type": "markdown",
   "metadata": {},
   "source": [
    "### Drop null values"
   ]
  },
  {
   "cell_type": "code",
   "execution_count": 72,
   "metadata": {},
   "outputs": [
    {
     "name": "stdout",
     "output_type": "stream",
     "text": [
      "Removed 0 rows\n"
     ]
    }
   ],
   "source": [
    "# Deal with null values. We allow cateogrical variables to be null\n",
    "# OTHER than grade, which is a particularly important categorical.\n",
    "# All non-categorical variables must be non-null, and we drop\n",
    "# rows that do not meet this requirement\n",
    "\n",
    "required_cols = set(cols_to_pick) - set(cat_cols) - set([\"id\"])\n",
    "required_cols.add(\"grade\")\n",
    "\n",
    "n_rows = len(final_data_2)\n",
    "    \n",
    "# drop rows that contain null based only on \"required_cols\"\n",
    "final_data_2 = final_data_2.dropna(subset=required_cols)\n",
    "\n",
    "print(\"Removed \" + str(n_rows - len(final_data_2)) + \" rows\")\n",
    "#Note: not sure why this is zero... seems like we don't have any nulls tho."
   ]
  },
  {
   "cell_type": "markdown",
   "metadata": {},
   "source": [
    "### Visualize clean data"
   ]
  },
  {
   "cell_type": "code",
   "execution_count": 73,
   "metadata": {},
   "outputs": [
    {
     "name": "stdout",
     "output_type": "stream",
     "text": [
      "loan_amnt\n"
     ]
    },
    {
     "data": {
      "image/png": "[encoded data removed]",
      "text/plain": [
       "<Figure size 432x288 with 1 Axes>"
      ]
     },
     "metadata": {
      "needs_background": "light"
     },
     "output_type": "display_data"
    },
    {
     "name": "stdout",
     "output_type": "stream",
     "text": [
      "funded_amnt\n"
     ]
    },
    {
     "data": {
      "image/png": "[encoded data removed]",
      "text/plain": [
       "<Figure size 432x288 with 1 Axes>"
      ]
     },
     "metadata": {
      "needs_background": "light"
     },
     "output_type": "display_data"
    },
    {
     "name": "stdout",
     "output_type": "stream",
     "text": [
      "installment\n"
     ]
    },
    {
     "data": {
      "image/png": "[encoded data removed]",
      "text/plain": [
       "<Figure size 432x288 with 1 Axes>"
      ]
     },
     "metadata": {
      "needs_background": "light"
     },
     "output_type": "display_data"
    },
    {
     "name": "stdout",
     "output_type": "stream",
     "text": [
      "annual_inc\n"
     ]
    },
    {
     "data": {
      "image/png": "[encoded data removed]",
      "text/plain": [
       "<Figure size 432x288 with 1 Axes>"
      ]
     },
     "metadata": {
      "needs_background": "light"
     },
     "output_type": "display_data"
    },
    {
     "name": "stdout",
     "output_type": "stream",
     "text": [
      "dti\n"
     ]
    },
    {
     "data": {
      "image/png": "[encoded data removed]",
      "text/plain": [
       "<Figure size 432x288 with 1 Axes>"
      ]
     },
     "metadata": {
      "needs_background": "light"
     },
     "output_type": "display_data"
    },
    {
     "name": "stdout",
     "output_type": "stream",
     "text": [
      "delinq_2yrs\n"
     ]
    },
    {
     "data": {
      "image/png": "[encoded data removed]",
      "text/plain": [
       "<Figure size 432x288 with 1 Axes>"
      ]
     },
     "metadata": {
      "needs_background": "light"
     },
     "output_type": "display_data"
    },
    {
     "name": "stdout",
     "output_type": "stream",
     "text": [
      "open_acc\n"
     ]
    },
    {
     "data": {
      "image/png": "[encoded data removed]",
      "text/plain": [
       "<Figure size 432x288 with 1 Axes>"
      ]
     },
     "metadata": {
      "needs_background": "light"
     },
     "output_type": "display_data"
    },
    {
     "name": "stdout",
     "output_type": "stream",
     "text": [
      "pub_rec\n"
     ]
    },
    {
     "data": {
      "image/png": "[encoded data removed]",
      "text/plain": [
       "<Figure size 432x288 with 1 Axes>"
      ]
     },
     "metadata": {
      "needs_background": "light"
     },
     "output_type": "display_data"
    },
    {
     "name": "stdout",
     "output_type": "stream",
     "text": [
      "fico_range_high\n"
     ]
    },
    {
     "data": {
      "image/png": "[encoded data removed]",
      "text/plain": [
       "<Figure size 432x288 with 1 Axes>"
      ]
     },
     "metadata": {
      "needs_background": "light"
     },
     "output_type": "display_data"
    },
    {
     "name": "stdout",
     "output_type": "stream",
     "text": [
      "fico_range_low\n"
     ]
    },
    {
     "data": {
      "image/png": "[encoded data removed]",
      "text/plain": [
       "<Figure size 432x288 with 1 Axes>"
      ]
     },
     "metadata": {
      "needs_background": "light"
     },
     "output_type": "display_data"
    },
    {
     "name": "stdout",
     "output_type": "stream",
     "text": [
      "revol_bal\n"
     ]
    },
    {
     "data": {
      "image/png": "[encoded data removed]",
      "text/plain": [
       "<Figure size 432x288 with 1 Axes>"
      ]
     },
     "metadata": {
      "needs_background": "light"
     },
     "output_type": "display_data"
    },
    {
     "name": "stdout",
     "output_type": "stream",
     "text": [
      "total_pymnt\n"
     ]
    },
    {
     "data": {
      "image/png": "[encoded data removed]",
      "text/plain": [
       "<Figure size 432x288 with 1 Axes>"
      ]
     },
     "metadata": {
      "needs_background": "light"
     },
     "output_type": "display_data"
    },
    {
     "name": "stdout",
     "output_type": "stream",
     "text": [
      "recoveries\n"
     ]
    },
    {
     "data": {
      "image/png": "[encoded data removed]",
      "text/plain": [
       "<Figure size 432x288 with 1 Axes>"
      ]
     },
     "metadata": {
      "needs_background": "light"
     },
     "output_type": "display_data"
    },
    {
     "name": "stdout",
     "output_type": "stream",
     "text": [
      "int_rate\n"
     ]
    },
    {
     "data": {
      "image/png": "[encoded data removed]",
      "text/plain": [
       "<Figure size 432x288 with 1 Axes>"
      ]
     },
     "metadata": {
      "needs_background": "light"
     },
     "output_type": "display_data"
    },
    {
     "name": "stdout",
     "output_type": "stream",
     "text": [
      "revol_util\n"
     ]
    },
    {
     "data": {
      "image/png": "[encoded data removed]",
      "text/plain": [
       "<Figure size 432x288 with 1 Axes>"
      ]
     },
     "metadata": {
      "needs_background": "light"
     },
     "output_type": "display_data"
    },
    {
     "name": "stdout",
     "output_type": "stream",
     "text": [
      "ret_PESS\n"
     ]
    },
    {
     "data": {
      "image/png": "[encoded data removed]",
      "text/plain": [
       "<Figure size 432x288 with 1 Axes>"
      ]
     },
     "metadata": {
      "needs_background": "light"
     },
     "output_type": "display_data"
    },
    {
     "name": "stdout",
     "output_type": "stream",
     "text": [
      "ret_OPT\n"
     ]
    },
    {
     "data": {
      "image/png": "[encoded data removed]",
      "text/plain": [
       "<Figure size 432x288 with 1 Axes>"
      ]
     },
     "metadata": {
      "needs_background": "light"
     },
     "output_type": "display_data"
    },
    {
     "name": "stdout",
     "output_type": "stream",
     "text": [
      "ret_INTa\n"
     ]
    },
    {
     "data": {
      "image/png": "[encoded data removed]",
      "text/plain": [
       "<Figure size 432x288 with 1 Axes>"
      ]
     },
     "metadata": {
      "needs_background": "light"
     },
     "output_type": "display_data"
    },
    {
     "name": "stdout",
     "output_type": "stream",
     "text": [
      "ret_INTb\n"
     ]
    },
    {
     "data": {
      "image/png": "[encoded data removed]",
      "text/plain": [
       "<Figure size 432x288 with 1 Axes>"
      ]
     },
     "metadata": {
      "needs_background": "light"
     },
     "output_type": "display_data"
    },
    {
     "name": "stdout",
     "output_type": "stream",
     "text": [
      "term\n",
      "Number Distinct Values:  2\n",
      " 36 months :  694161\n",
      " 60 months :  226651\n",
      "\n",
      "\n",
      "grade\n",
      "Number Distinct Values:  7\n",
      "B :  263380\n",
      "A :  146894\n",
      "C :  260883\n",
      "D :  145167\n",
      "E :  71696\n",
      "G :  7019\n",
      "F :  25773\n",
      "\n",
      "\n",
      "emp_length\n",
      "Number Distinct Values:  12\n",
      "< 1 year :  73136\n",
      "nan :  50475\n",
      "10+ years :  298073\n",
      "5 years :  58543\n",
      "2 years :  83531\n",
      "4 years :  55310\n",
      "3 years :  73732\n",
      "8 years :  43430\n",
      "1 year :  60547\n",
      "9 years :  35804\n",
      "7 years :  43398\n",
      "6 years :  44833\n",
      "\n",
      "\n",
      "home_ownership\n",
      "Number Distinct Values:  6\n",
      "MORTGAGE :  450364\n",
      "RENT :  376051\n",
      "OWN :  94174\n",
      "ANY :  134\n",
      "OTHER :  46\n",
      "NONE :  43\n",
      "\n",
      "\n",
      "verification_status\n",
      "Number Distinct Values:  3\n",
      "Not Verified :  283156\n",
      "Source Verified :  339053\n",
      "Verified :  298603\n",
      "\n",
      "\n",
      "loan_status\n",
      "Number Distinct Values:  8\n",
      "Fully Paid :  702717\n",
      "Charged Off :  183552\n",
      "Late (31-120 days) :  19601\n",
      "Late (16-30 days) :  5448\n",
      "In Grace Period :  8293\n",
      "Default :  379\n",
      "Does not meet the credit policy. Status:Fully Paid :  591\n",
      "Does not meet the credit policy. Status:Charged Off :  231\n",
      "\n",
      "\n",
      "purpose\n",
      "Number Distinct Values:  14\n",
      "debt_consolidation :  547143\n",
      "home_improvement :  56316\n",
      "credit_card :  197873\n",
      "other :  49878\n",
      "major_purchase :  19442\n",
      "medical :  9951\n",
      "moving :  6515\n",
      "house :  4454\n",
      "small_business :  10684\n",
      "car :  9775\n",
      "vacation :  5974\n",
      "renewable_energy :  657\n",
      "wedding :  2058\n",
      "educational :  92\n",
      "\n",
      "\n"
     ]
    },
    {
     "data": {
      "image/png": "[encoded data removed]",
      "text/plain": [
       "<Figure size 432x288 with 1 Axes>"
      ]
     },
     "metadata": {
      "needs_background": "light"
     },
     "output_type": "display_data"
    },
    {
     "data": {
      "image/png": "[encoded data removed]",
      "text/plain": [
       "<Figure size 432x288 with 1 Axes>"
      ]
     },
     "metadata": {
      "needs_background": "light"
     },
     "output_type": "display_data"
    },
    {
     "data": {
      "image/png": "[encoded data removed]",
      "text/plain": [
       "<Figure size 432x288 with 1 Axes>"
      ]
     },
     "metadata": {
      "needs_background": "light"
     },
     "output_type": "display_data"
    }
   ],
   "source": [
    "# Visualize the data again after cleaning\n",
    "# visualize continuous features\n",
    "visualize_float_columns(final_data_2)\n",
    "\n",
    "# visulaize categorical features\n",
    "visualize_cat_columns(final_data_2)\n",
    "\n",
    "# visualize date columns\n",
    "visualize_date_columns(final_data_2)"
   ]
  },
  {
   "cell_type": "code",
   "execution_count": 74,
   "metadata": {},
   "outputs": [],
   "source": [
    "#Note: the 2 cells below take forever/don't complete.. not sure why.  Maybe due to cols_to_pick"
   ]
  },
  {
   "cell_type": "code",
   "execution_count": 75,
   "metadata": {},
   "outputs": [],
   "source": [
    "# # Visualize the feature correlations\n",
    "# # use sns scatter or pairplot\n",
    "# import seaborn as sns\n",
    "# g = sns.pairplot(data=final_data_2, vars=float_cols,\n",
    "#             diag_kind=None)# , plot_kws={'scatter_kws': {'alpha': 0.3}})\n",
    "# g.set(alpha=0.1)\n",
    "# plt.show()"
   ]
  },
  {
   "cell_type": "code",
   "execution_count": 76,
   "metadata": {},
   "outputs": [
    {
     "data": {
      "image/png": "[encoded data removed]",
      "text/plain": [
       "<Figure size 720x720 with 2 Axes>"
      ]
     },
     "metadata": {
      "needs_background": "light"
     },
     "output_type": "display_data"
    }
   ],
   "source": [
    "# feature correlation heatmap\n",
    "import seaborn as sns\n",
    "fig = plt.figure(figsize=(10,10))\n",
    "ax = fig.add_subplot(1,1,1)\n",
    "correlation = final_data_2[cols_to_pick].corr()\n",
    "\n",
    "sns.heatmap(correlation, ax=ax,\n",
    "        xticklabels=correlation.columns,\n",
    "        yticklabels=correlation.columns)\n",
    "plt.show()"
   ]
  },
  {
   "cell_type": "markdown",
   "metadata": {},
   "source": [
    "Observations: There seems to be high correlation between total payment and loan amount, funded amount, and installment. There also seems to be high correlation between installment and loan amount and funded amount. "
   ]
  },
  {
   "cell_type": "code",
   "execution_count": 77,
   "metadata": {},
   "outputs": [
    {
     "data": {
      "image/png": "[encoded data removed]",
      "text/plain": [
       "<Figure size 144x504 with 2 Axes>"
      ]
     },
     "metadata": {
      "needs_background": "light"
     },
     "output_type": "display_data"
    }
   ],
   "source": [
    "# # Visualize relation between loan status and features\n",
    "# import seaborn as sns\n",
    "# sns.pairplot(data=final_data_2, x_vars=float_cols, y_vars='loan_status')\n",
    "\n",
    "## convert loan status to numerical for creating correlation heatmap\n",
    "final_data_3 = final_data_2.copy()\n",
    "final_data_3['loan_status'] = final_data_3['loan_status'].astype('category').cat.codes\n",
    "# loan status and features correlation heatmap\n",
    "import seaborn as sns\n",
    "fig = plt.figure(figsize=(2,7))\n",
    "ax = fig.add_subplot(1,1,1)\n",
    "correlation = final_data_3[cols_to_pick].corr()\n",
    "correlation_2 = correlation['loan_status']\n",
    "sns.heatmap(correlation_2.to_frame())\n",
    "plt.show()"
   ]
  },
  {
   "cell_type": "markdown",
   "metadata": {},
   "source": [
    "As expected, there is high correlation between loan status and total payment. "
   ]
  },
  {
   "cell_type": "markdown",
   "metadata": {},
   "source": [
    "What do you observe after removing the outliers?"
   ]
  },
  {
   "cell_type": "markdown",
   "metadata": {},
   "source": [
    "Naturally, the boxplots are much more readable after removing all outliers greater than 3x the IQR. The median and IQR values can now be clearly seen on the box plot. "
   ]
  },
  {
   "cell_type": "markdown",
   "metadata": {},
   "source": [
    "### Data Exploration\n",
    "Solution to Q.7 from the handout"
   ]
  },
  {
   "cell_type": "code",
   "execution_count": 78,
   "metadata": {},
   "outputs": [
    {
     "data": {
      "text/html": [
       "<div>\n",
       "<style scoped>\n",
       "    .dataframe tbody tr th:only-of-type {\n",
       "        vertical-align: middle;\n",
       "    }\n",
       "\n",
       "    .dataframe tbody tr th {\n",
       "        vertical-align: top;\n",
       "    }\n",
       "\n",
       "    .dataframe thead th {\n",
       "        text-align: right;\n",
       "    }\n",
       "</style>\n",
       "<table border=\"1\" class=\"dataframe\">\n",
       "  <thead>\n",
       "    <tr style=\"text-align: right;\">\n",
       "      <th></th>\n",
       "      <th>perc_of_loans</th>\n",
       "      <th>perc_default</th>\n",
       "      <th>avg_int_rate</th>\n",
       "      <th>return_OPT</th>\n",
       "      <th>return_PESS</th>\n",
       "      <th>return_INTa</th>\n",
       "      <th>return_INTb</th>\n",
       "    </tr>\n",
       "  </thead>\n",
       "  <tbody>\n",
       "    <tr>\n",
       "      <th>A</th>\n",
       "      <td>15.952659</td>\n",
       "      <td>7.542854</td>\n",
       "      <td>7.220389</td>\n",
       "      <td>0.036266</td>\n",
       "      <td>0.014392</td>\n",
       "      <td>0.019249</td>\n",
       "      <td>0.066183</td>\n",
       "    </tr>\n",
       "    <tr>\n",
       "      <th>B</th>\n",
       "      <td>28.603016</td>\n",
       "      <td>15.871365</td>\n",
       "      <td>10.848431</td>\n",
       "      <td>0.044940</td>\n",
       "      <td>0.011624</td>\n",
       "      <td>0.017435</td>\n",
       "      <td>0.064150</td>\n",
       "    </tr>\n",
       "    <tr>\n",
       "      <th>C</th>\n",
       "      <td>28.331842</td>\n",
       "      <td>26.145820</td>\n",
       "      <td>14.075877</td>\n",
       "      <td>0.045524</td>\n",
       "      <td>-0.000006</td>\n",
       "      <td>0.009348</td>\n",
       "      <td>0.054754</td>\n",
       "    </tr>\n",
       "    <tr>\n",
       "      <th>D</th>\n",
       "      <td>15.765107</td>\n",
       "      <td>34.299118</td>\n",
       "      <td>17.573353</td>\n",
       "      <td>0.047832</td>\n",
       "      <td>-0.005723</td>\n",
       "      <td>0.004528</td>\n",
       "      <td>0.048751</td>\n",
       "    </tr>\n",
       "    <tr>\n",
       "      <th>E</th>\n",
       "      <td>7.786171</td>\n",
       "      <td>42.917318</td>\n",
       "      <td>20.809643</td>\n",
       "      <td>0.049539</td>\n",
       "      <td>-0.014714</td>\n",
       "      <td>-0.003508</td>\n",
       "      <td>0.038963</td>\n",
       "    </tr>\n",
       "    <tr>\n",
       "      <th>F</th>\n",
       "      <td>2.798943</td>\n",
       "      <td>49.012532</td>\n",
       "      <td>24.592628</td>\n",
       "      <td>0.054053</td>\n",
       "      <td>-0.019375</td>\n",
       "      <td>-0.008814</td>\n",
       "      <td>0.032517</td>\n",
       "    </tr>\n",
       "    <tr>\n",
       "      <th>G</th>\n",
       "      <td>0.762262</td>\n",
       "      <td>54.281237</td>\n",
       "      <td>27.312309</td>\n",
       "      <td>0.048185</td>\n",
       "      <td>-0.035448</td>\n",
       "      <td>-0.022557</td>\n",
       "      <td>0.016757</td>\n",
       "    </tr>\n",
       "  </tbody>\n",
       "</table>\n",
       "</div>"
      ],
      "text/plain": [
       "   perc_of_loans  perc_default  avg_int_rate  return_OPT  return_PESS  \\\n",
       "A      15.952659      7.542854      7.220389    0.036266     0.014392   \n",
       "B      28.603016     15.871365     10.848431    0.044940     0.011624   \n",
       "C      28.331842     26.145820     14.075877    0.045524    -0.000006   \n",
       "D      15.765107     34.299118     17.573353    0.047832    -0.005723   \n",
       "E       7.786171     42.917318     20.809643    0.049539    -0.014714   \n",
       "F       2.798943     49.012532     24.592628    0.054053    -0.019375   \n",
       "G       0.762262     54.281237     27.312309    0.048185    -0.035448   \n",
       "\n",
       "   return_INTa  return_INTb  \n",
       "A     0.019249     0.066183  \n",
       "B     0.017435     0.064150  \n",
       "C     0.009348     0.054754  \n",
       "D     0.004528     0.048751  \n",
       "E    -0.003508     0.038963  \n",
       "F    -0.008814     0.032517  \n",
       "G    -0.022557     0.016757  "
      ]
     },
     "execution_count": 78,
     "metadata": {},
     "output_type": "execute_result"
    }
   ],
   "source": [
    "# Find the percentage of loans by grade, the default by grade,\n",
    "# and the return of each grade\n",
    "perc_by_grade = (final_data_2.grade.value_counts()*100/len(final_data_2)).sort_index()\n",
    "\n",
    "default_by_grade = final_data_2.groupby(\"grade\").apply(lambda x : (x.loan_status != \"Fully Paid\").sum()*100/len(x) )\n",
    "ret_by_grade_OPT = final_data_2.groupby('grade').ret_OPT.mean() # average return for M2-Optimistic for each loan grade\n",
    "ret_by_grade_PESS = final_data_2.groupby('grade').ret_PESS.mean() # average return for M1-Pessimistic for each loan grade\n",
    "ret_by_grade_INTa = final_data_2.groupby('grade').ret_INTa.mean() # average return for M3\n",
    "ret_by_grade_INTb = final_data_2.groupby('grade').ret_INTb.mean() # average return for M3\n",
    "int_rate_by_grade = final_data_2.groupby('grade').int_rate.mean() # average interest rate for each grade\n",
    "\n",
    "combined = pd.DataFrame(perc_by_grade)\n",
    "combined.columns = ['perc_of_loans']\n",
    "combined['perc_default'] = default_by_grade\n",
    "combined['avg_int_rate'] = int_rate_by_grade\n",
    "combined['return_OPT'] = ret_by_grade_OPT\n",
    "combined['return_PESS'] = ret_by_grade_PESS\n",
    "combined['return_INTa'] = ret_by_grade_INTa\n",
    "combined['return_INTb'] = ret_by_grade_INTb\n",
    "\n",
    "combined"
   ]
  },
  {
   "cell_type": "markdown",
   "metadata": {},
   "source": [
    "Based on the output of previous cell, write down your answers to Q.7 from the handout."
   ]
  },
  {
   "cell_type": "markdown",
   "metadata": {},
   "source": [
    "### Save a Pickle"
   ]
  },
  {
   "cell_type": "code",
   "execution_count": 79,
   "metadata": {},
   "outputs": [],
   "source": [
    "# Remove the \"total_pymnt\" and \"recoveries\" from the list of continuous features\n",
    "continuous_features.remove('total_pymnt')\n",
    "continuous_features.remove('recoveries')"
   ]
  },
  {
   "cell_type": "markdown",
   "metadata": {},
   "source": [
    "Why did we remove `total_pymt` and `recoveries` from the data for the task of predicting whether to give loan or not, although these are highly predictive features?"
   ]
  },
  {
   "cell_type": "markdown",
   "metadata": {},
   "source": [
    "We removed them because we will not have either of these features available to us as investors at the time we actually want to choose a loan to invest in.  They would only be available at the end of the loan."
   ]
  },
  {
   "cell_type": "code",
   "execution_count": 81,
   "metadata": {},
   "outputs": [],
   "source": [
    "# save the prepared data for modeling in next Phase.\n",
    "pickle.dump( [final_data_2, discrete_features, continuous_features, ret_cols], open(pickle_file, \"wb\") )\n",
    "#NOTE: this is a 500mb file and thus is not going to be uploaded to our github."
   ]
  },
  {
   "cell_type": "code",
   "execution_count": null,
   "metadata": {},
   "outputs": [],
   "source": []
  }
 ],
 "metadata": {
  "kernelspec": {
   "display_name": "Python 3",
   "language": "python",
   "name": "python3"
  },
  "language_info": {
   "codemirror_mode": {
    "name": "ipython",
    "version": 3
   },
   "file_extension": ".py",
   "mimetype": "text/x-python",
   "name": "python",
   "nbconvert_exporter": "python",
   "pygments_lexer": "ipython3",
   "version": "3.6.8"
  }
 },
 "nbformat": 4,
 "nbformat_minor": 2
}
